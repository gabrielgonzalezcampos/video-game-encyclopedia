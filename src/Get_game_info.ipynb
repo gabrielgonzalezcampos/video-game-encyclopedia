{
 "cells": [
  {
   "cell_type": "markdown",
   "metadata": {},
   "source": [
    "## Get info of each game\n",
    "Here are some examples of responded API:\n",
    "- https://api.rawg.io/api/games/rimworld\n",
    "- https://api.rawg.io/api/games/grand-theft-auto-v\n",
    "- https://rawg.io/games/grand-theft-auto-v"
   ]
  },
  {
   "cell_type": "code",
   "execution_count": 1,
   "metadata": {},
   "outputs": [],
   "source": [
    "import csv\n",
    "import requests\n",
    "import json\n",
    "from pprint import pprint\n",
    "from time import time\n",
    "import concurrent.futures\n",
    "import functools\n",
    "import os\n",
    "\n",
    "with open(\"../secret.json\", \"r\") as f:\n",
    "    API_KEY = json.load(f)[\"API_KEY\"]"
   ]
  },
  {
   "cell_type": "markdown",
   "metadata": {},
   "source": [
    "### Load CSV file which has game's id and its name"
   ]
  },
  {
   "cell_type": "code",
   "execution_count": 2,
   "metadata": {},
   "outputs": [
    {
     "name": "stdout",
     "output_type": "stream",
     "text": [
      "['3498', 'grand-theft-auto-v']\n",
      "['3328', 'the-witcher-3-wild-hunt']\n",
      "['4200', 'portal-2']\n",
      "['5286', 'tomb-raider']\n",
      "['5679', 'the-elder-scrolls-v-skyrim']\n",
      "['4291', 'counter-strike-global-offensive']\n",
      "['12020', 'left-4-dead-2']\n",
      "['13536', 'portal']\n",
      "['4062', 'bioshock-infinite']\n",
      "['802', 'borderlands-2']\n"
     ]
    }
   ],
   "source": [
    "csv_data = []\n",
    "with open(\"../data/game_id.csv\", \"r\") as f:\n",
    "    csv_data = list(csv.reader(f))\n",
    "\n",
    "# Preview\n",
    "print(*csv_data[:10], sep=\"\\n\")"
   ]
  },
  {
   "cell_type": "markdown",
   "metadata": {},
   "source": [
    "## Multithreading"
   ]
  },
  {
   "cell_type": "markdown",
   "metadata": {},
   "source": [
    "### This function is responsible for requesting each game and save as a JSON file in `/data/game_info/`"
   ]
  },
  {
   "cell_type": "code",
   "execution_count": 3,
   "metadata": {},
   "outputs": [],
   "source": [
    "def worker(start_index, games_per_worker, urls, downloaded_files, headers):\n",
    "    for url in urls[start_index : start_index + games_per_worker]:\n",
    "        if url.rsplit(\"/\")[-1] in downloaded_files: continue\n",
    "        try:\n",
    "            # Request API\n",
    "            json_data = json.loads(requests.get(url, headers=headers).text)\n",
    "\n",
    "            # Only include wanted keys\n",
    "            D = {k:v for k,v in json_data.items() if k in include}\n",
    "\n",
    "            # Clean up dictionary\n",
    "            D[\"platforms\"] = []\n",
    "            for platform in json_data[\"platforms\"]:\n",
    "                D[\"platforms\"].append(platform[\"platform\"][\"name\"])\n",
    "\n",
    "            for key in (\"developers\", \"genres\", \"publishers\"):\n",
    "                D[key] = []\n",
    "                for data in json_data[key]:\n",
    "                    D[key].append(data[\"name\"])\n",
    "\n",
    "            if json_data[\"esrb_rating\"]:\n",
    "                D[\"esrb_rating\"] = json_data[\"esrb_rating\"][\"name\"]\n",
    "            \n",
    "            # Save as JSON file\n",
    "            name = D[\"id\"]\n",
    "            with open(f\"../data/game_info/{name}.json\",\"w\", encoding=\"utf-8\") as f:\n",
    "                json.dump(D, f)\n",
    "        except:\n",
    "            print(f\"Failed\", end=\" \")"
   ]
  },
  {
   "cell_type": "code",
   "execution_count": 4,
   "metadata": {},
   "outputs": [],
   "source": [
    "# Create folder if not existed\n",
    "if not os.path.exists('../data/game_info/'):\n",
    "    os.makedirs('../data/game_info/')"
   ]
  },
  {
   "cell_type": "markdown",
   "metadata": {},
   "source": [
    "#### Threading Preparation"
   ]
  },
  {
   "cell_type": "code",
   "execution_count": 5,
   "metadata": {},
   "outputs": [
    {
     "name": "stdout",
     "output_type": "stream",
     "text": [
      "447797\n",
      "https://api.rawg.io/api/games/25133?key=f92efb7027874ab899c1ff83335a6a97\n",
      "https://api.rawg.io/api/games/378683?key=f92efb7027874ab899c1ff83335a6a97\n",
      "https://api.rawg.io/api/games/378476?key=f92efb7027874ab899c1ff83335a6a97\n",
      "https://api.rawg.io/api/games/378455?key=f92efb7027874ab899c1ff83335a6a97\n",
      "https://api.rawg.io/api/games/378452?key=f92efb7027874ab899c1ff83335a6a97\n",
      "https://api.rawg.io/api/games/378443?key=f92efb7027874ab899c1ff83335a6a97\n",
      "https://api.rawg.io/api/games/378427?key=f92efb7027874ab899c1ff83335a6a97\n",
      "https://api.rawg.io/api/games/378395?key=f92efb7027874ab899c1ff83335a6a97\n",
      "https://api.rawg.io/api/games/378390?key=f92efb7027874ab899c1ff83335a6a97\n",
      "https://api.rawg.io/api/games/378316?key=f92efb7027874ab899c1ff83335a6a97\n"
     ]
    }
   ],
   "source": [
    "headers = { 'User-Agent': 'App Name: Education purpose',}\n",
    "params = {\"key\": API_KEY}\n",
    "include = {\"id\",\n",
    "           \"slug\",\n",
    "           \"name\",\n",
    "           \"metacritic\",\n",
    "           \"released\",\n",
    "           \"tba\",\n",
    "           \"updated\",\n",
    "           \"website\",\n",
    "           \"rating\",\n",
    "           \"rating_top\",\n",
    "           \"added_by_status\",\n",
    "           \"playtime\",\n",
    "           \"achievements_count\",\n",
    "           \"ratings_count\",\n",
    "           \"suggestions_count\",\n",
    "           \"game_series_count\",\n",
    "           \"reviews_count\",\n",
    "           \"platforms\",\n",
    "           \"developers\",\n",
    "           \"genres\",\n",
    "           \"publishers\",\n",
    "           \"esrb_rating\",\n",
    "           }\n",
    "\n",
    "# Set up number of workers\n",
    "max_workers = 64\n",
    "start_game_index = 0\n",
    "end_game_index = len(csv_data)\n",
    "number_of_games = end_game_index - start_game_index\n",
    "games_per_worker = int(number_of_games/max_workers) + 1 \n",
    "start_index = range(start_game_index, end_game_index, games_per_worker)\n",
    "\n",
    "# Skip downloaded files\n",
    "downloaded_files = {file.split(\".\",1)[0] for file in os.listdir(\"../data/game_info/\")}\n",
    "game_ids = [game_id for game_id, _ in csv_data if game_id not in downloaded_files]\n",
    "\n",
    "# Make urls\n",
    "base_url = r\"https://api.rawg.io/api/games/{i}?key={key}\"\n",
    "urls = [base_url.format(i=game_id, key=API_KEY) for game_id in game_ids]\n",
    "\n",
    "print(len(urls))\n",
    "print(*urls[:10], sep=\"\\n\")"
   ]
  },
  {
   "cell_type": "code",
   "execution_count": null,
   "metadata": {},
   "outputs": [
    {
     "name": "stdout",
     "output_type": "stream",
     "text": [
      "Failed Failed Failed Failed Failed Failed Failed Failed Failed Failed Failed Failed Failed Failed Failed Failed Failed Failed Failed Failed Failed Failed Failed Failed Failed Failed Failed Failed Failed Failed Failed Failed Failed Failed Failed Failed Failed Failed Failed Failed Failed Failed Failed Failed Failed Failed Failed Failed Failed Failed Failed Failed Failed Failed Failed Failed Failed Failed Failed Failed Failed Failed Failed Failed Failed Failed Failed Failed Failed Failed Failed Failed Failed Failed Failed Failed Failed Failed Failed Failed Failed FailedFailed FailedFailed Failed   Failed Failed Failed Failed Failed Failed Failed Failed Failed Failed Failed Failed Failed Failed Failed Failed Failed Failed Failed Failed Failed Failed FailedFailed Failed  Failed Failed Failed Failed FailedFailed  Failed FailedFailed Failed Failed Failed  FailedFailed FailedFailed   Failed Failed FailedFailedFailed   FailedFailedFailed   Failed Failed Failed Failed Failed Failed Failed Failed Failed Failed Failed Failed Failed Failed Failed Failed Failed FailedFailed Failed  Failed Failed Failed Failed FailedFailed  Failed Failed FailedFailed Failed Failed  Failed Failed Failed Failed Failed Failed Failed Failed Failed FailedFailed Failed  FailedFailedFailed   Failed Failed FailedFailed  Failed Failed Failed Failed Failed FailedFailed  Failed FailedFailed  Failed FailedFailed  Failed Failed Failed Failed Failed Failed Failed Failed Failed Failed Failed Failed Failed Failed Failed Failed FailedFailed  Failed Failed Failed Failed Failed FailedFailed  Failed Failed Failed Failed Failed Failed Failed Failed Failed FailedFailed Failed  Failed Failed Failed FailedFailedFailed   Failed Failed Failed Failed Failed Failed Failed Failed Failed Failed Failed Failed Failed Failed Failed Failed Failed Failed Failed Failed Failed Failed Failed Failed Failed Failed Failed Failed Failed FailedFailed  Failed Failed Failed FailedFailed  Failed Failed Failed FailedFailed  Failed Failed Failed FailedFailed  Failed Failed Failed Failed FailedFailed  Failed Failed Failed FailedFailed  Failed Failed Failed Failed Failed Failed Failed Failed FailedFailed  Failed Failed Failed Failed Failed Failed Failed Failed Failed Failed Failed Failed Failed FailedFailed  FailedFailed Failed  Failed Failed Failed Failed Failed FailedFailed Failed Failed Failed  Failed FailedFailed  Failed Failed Failed Failed Failed Failed Failed Failed Failed Failed Failed Failed Failed Failed Failed Failed Failed Failed Failed Failed Failed Failed Failed Failed Failed Failed Failed Failed Failed Failed Failed Failed Failed Failed FailedFailed  Failed Failed Failed Failed FailedFailed Failed Failed  Failed Failed Failed Failed Failed Failed Failed Failed Failed Failed FailedFailed  Failed Failed Failed FailedFailedFailedFailed  Failed   Failed Failed FailedFailed  Failed Failed Failed Failed Failed Failed Failed Failed Failed Failed Failed Failed Failed Failed Failed Failed FailedFailed  FailedFailed Failed Failed Failed Failed Failed Failed Failed  FailedFailed  Failed Failed Failed Failed Failed Failed Failed Failed Failed Failed FailedFailed  FailedFailed Failed Failed Failed Failed Failed Failed  Failed Failed Failed Failed Failed Failed Failed Failed Failed Failed Failed Failed Failed Failed Failed FailedFailed  Failed Failed Failed FailedFailed Failed  Failed Failed Failed Failed Failed Failed Failed Failed Failed Failed Failed FailedFailed Failed Failed Failed  Failed Failed Failed Failed Failed FailedFailed Failed  Failed Failed Failed Failed Failed Failed Failed Failed Failed Failed Failed Failed Failed Failed Failed FailedFailed Failed  FailedFailed  Failed Failed Failed Failed Failed Failed Failed Failed Failed Failed Failed Failed Failed Failed Failed Failed Failed Failed Failed Failed Failed Failed Failed Failed Failed Failed Failed Failed Failed Failed Failed Failed Failed Failed Failed Failed Failed Failed Failed Failed FailedFailed  FailedFailed Failed FailedFailed   Failed Failed Failed Failed Failed Failed Failed Failed Failed Failed Failed Failed Failed Failed Failed Failed Failed Failed Failed Failed Failed Failed Failed Failed Failed Failed Failed Failed Failed Failed Failed Failed Failed Failed Failed Failed Failed Failed Failed Failed Failed Failed Failed Failed Failed FailedFailed  Failed Failed Failed Failed Failed Failed Failed Failed Failed Failed Failed Failed Failed Failed Failed Failed Failed Failed Failed Failed Failed Failed Failed Failed Failed Failed Failed Failed Failed Failed Failed FailedFailed Failed  Failed Failed Failed Failed Failed Failed Failed Failed Failed FailedFailedFailed   Failed FailedFailed Failed  Failed Failed Failed Failed FailedFailed  Failed Failed Failed Failed FailedFailed  Failed FailedFailed  Failed Failed Failed Failed Failed Failed Failed Failed Failed Failed Failed Failed Failed Failed FailedFailed Failed  Failed FailedFailed Failed Failed FailedFailed   Failed Failed Failed FailedFailed  Failed Failed Failed Failed Failed Failed Failed Failed Failed Failed Failed Failed Failed Failed Failed Failed Failed Failed FailedFailed  Failed FailedFailedFailed Failed   Failed Failed Failed Failed Failed Failed Failed Failed Failed Failed Failed Failed Failed Failed Failed Failed Failed Failed Failed Failed Failed FailedFailed  Failed FailedFailed  FailedFailedFailed Failed Failed  Failed Failed  Failed Failed Failed Failed Failed Failed Failed Failed Failed Failed Failed Failed Failed Failed Failed Failed Failed Failed Failed Failed Failed Failed Failed Failed Failed Failed Failed Failed Failed Failed Failed Failed Failed Failed Failed Failed FailedFailed  Failed FailedFailed  FailedFailed  Failed Failed Failed Failed Failed Failed Failed Failed FailedFailed Failed  Failed Failed Failed Failed Failed Failed Failed Failed Failed Failed Failed Failed Failed Failed Failed Failed Failed FailedFailed  Failed Failed Failed Failed Failed Failed Failed Failed Failed FailedFailed  Failed Failed Failed Failed Failed Failed Failed Failed Failed Failed Failed Failed Failed Failed Failed Failed Failed Failed Failed Failed Failed FailedFailed Failed Failed Failed Failed Failed FailedFailed  Failed Failed  Failed Failed Failed FailedFailed  Failed Failed Failed "
     ]
    }
   ],
   "source": [
    "# Time\n",
    "t0 = time()\n",
    "with concurrent.futures.ThreadPoolExecutor(max_workers=max_workers) as executor:\n",
    "    temp = functools.partial(worker,\n",
    "                             games_per_worker=games_per_worker,\n",
    "                             urls=urls,\n",
    "                             downloaded_files=downloaded_files,\n",
    "                             headers=headers,\n",
    "                            )\n",
    "    executor.map(temp, start_index)\n",
    "    \n",
    "# Time\n",
    "print(f\"Time taken: {time()-t0}\")"
   ]
  },
  {
   "cell_type": "code",
   "execution_count": null,
   "metadata": {},
   "outputs": [],
   "source": []
  }
 ],
 "metadata": {
  "kernelspec": {
   "display_name": "Python 3 (ipykernel)",
   "language": "python",
   "name": "python3"
  },
  "language_info": {
   "codemirror_mode": {
    "name": "ipython",
    "version": 3
   },
   "file_extension": ".py",
   "mimetype": "text/x-python",
   "name": "python",
   "nbconvert_exporter": "python",
   "pygments_lexer": "ipython3",
   "version": "3.9.8"
  }
 },
 "nbformat": 4,
 "nbformat_minor": 4
}

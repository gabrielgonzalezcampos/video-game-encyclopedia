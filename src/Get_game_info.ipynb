{
 "cells": [
  {
   "cell_type": "markdown",
   "metadata": {},
   "source": [
    "## Get info of each game\n",
    "Here are some examples of responded API:\n",
    "- https://api.rawg.io/api/games/rimworld\n",
    "- https://api.rawg.io/api/games/grand-theft-auto-v\n",
    "- https://rawg.io/games/grand-theft-auto-v"
   ]
  },
  {
   "cell_type": "code",
   "execution_count": 1,
   "metadata": {},
   "outputs": [],
   "source": [
    "import csv\n",
    "import requests\n",
    "import json\n",
    "from pprint import pprint\n",
    "from time import time\n",
    "import concurrent.futures\n",
    "import functools\n",
    "import os\n",
    "\n",
    "with open(\"../secret.json\", \"r\") as f:\n",
    "    API_KEY = json.load(f)[\"API_KEY\"]"
   ]
  },
  {
   "cell_type": "markdown",
   "metadata": {},
   "source": [
    "### Load CSV file which has game's id and its name"
   ]
  },
  {
   "cell_type": "code",
   "execution_count": 2,
   "metadata": {},
   "outputs": [
    {
     "name": "stdout",
     "output_type": "stream",
     "text": [
      "['3498', 'grand-theft-auto-v']\n",
      "['3328', 'the-witcher-3-wild-hunt']\n",
      "['4200', 'portal-2']\n",
      "['4291', 'counter-strike-global-offensive']\n",
      "['5286', 'tomb-raider']\n",
      "['13536', 'portal']\n",
      "['12020', 'left-4-dead-2']\n",
      "['5679', 'the-elder-scrolls-v-skyrim']\n",
      "['28', 'red-dead-redemption-2']\n",
      "['4062', 'bioshock-infinite']\n"
     ]
    }
   ],
   "source": [
    "csv_data = []\n",
    "with open(\"../data/game_id.csv\", \"r\") as f:\n",
    "    csv_data = list(csv.reader(f))\n",
    "\n",
    "# Preview\n",
    "print(*csv_data[:10], sep=\"\\n\")"
   ]
  },
  {
   "cell_type": "markdown",
   "metadata": {},
   "source": [
    "## Multithreading"
   ]
  },
  {
   "cell_type": "markdown",
   "metadata": {},
   "source": [
    "### This function is responsible for requesting each game and save as a JSON file in `/data/game_info/`"
   ]
  },
  {
   "cell_type": "code",
   "execution_count": null,
   "metadata": {},
   "outputs": [],
   "source": [
    "def worker(start_index, games_per_worker, urls, downloaded_files, headers):\n",
    "    for url in urls[start_index : start_index + games_per_worker]:\n",
    "        if url.rsplit(\"/\")[-1] in downloaded_files: continue\n",
    "        try:\n",
    "            # Request API\n",
    "            json_data = json.loads(requests.get(url, headers=headers).text)\n",
    "            \n",
    "            # Save as JSON file\n",
    "            name = json_data[\"id\"]\n",
    "            with open(f\"../data/game_info/{name}.json\",\"w\", encoding=\"utf-8\") as f:\n",
    "                json.dump(json_data, f)\n",
    "        except:\n",
    "            print(f\"Failed\", end=\" \") \n",
    "    # Verbose notification\n",
    "    print(\n",
    "        f\"Done from {start_index} to {start_index + urls_per_worker}\")"
   ]
  },
  {
   "cell_type": "code",
   "execution_count": 7,
   "metadata": {},
   "outputs": [],
   "source": [
    "# Create folder if not existed\n",
    "if not os.path.exists('../data/game_info/'):\n",
    "    os.makedirs('../data/game_info/')"
   ]
  },
  {
   "cell_type": "markdown",
   "metadata": {},
   "source": [
    "#### Threading Preparation"
   ]
  },
  {
   "cell_type": "code",
   "execution_count": 8,
   "metadata": {},
   "outputs": [
    {
     "name": "stdout",
     "output_type": "stream",
     "text": [
      "There are 18378 urls, 64 workers. Thus, each worker will request 288 urls\n",
      "18378\n",
      "https://api.rawg.io/api/games/428056?key=c542e67aec3a4340908f9de9e86038af\n",
      "https://api.rawg.io/api/games/662484?key=c542e67aec3a4340908f9de9e86038af\n",
      "https://api.rawg.io/api/games/662483?key=c542e67aec3a4340908f9de9e86038af\n",
      "https://api.rawg.io/api/games/662481?key=c542e67aec3a4340908f9de9e86038af\n",
      "https://api.rawg.io/api/games/662480?key=c542e67aec3a4340908f9de9e86038af\n",
      "https://api.rawg.io/api/games/662479?key=c542e67aec3a4340908f9de9e86038af\n",
      "https://api.rawg.io/api/games/662478?key=c542e67aec3a4340908f9de9e86038af\n",
      "https://api.rawg.io/api/games/662475?key=c542e67aec3a4340908f9de9e86038af\n",
      "https://api.rawg.io/api/games/661010?key=c542e67aec3a4340908f9de9e86038af\n",
      "https://api.rawg.io/api/games/661009?key=c542e67aec3a4340908f9de9e86038af\n"
     ]
    }
   ],
   "source": [
    "headers = { 'User-Agent': 'App Name: Education purpose',}\n",
    "params = {\"key\": API_KEY}\n",
    "include = {\"id\",\n",
    "           \"slug\",\n",
    "           \"name\",\n",
    "           \"metacritic\",\n",
    "           \"released\",\n",
    "           \"tba\",\n",
    "           \"updated\",\n",
    "           \"website\",\n",
    "           \"rating\",\n",
    "           \"rating_top\",\n",
    "           \"added_by_status\",\n",
    "           \"playtime\",\n",
    "           \"achievements_count\",\n",
    "           \"ratings_count\",\n",
    "           \"suggestions_count\",\n",
    "           \"game_series_count\",\n",
    "           \"reviews_count\",\n",
    "           \"platforms\",\n",
    "           \"developers\",\n",
    "           \"genres\",\n",
    "           \"publishers\",\n",
    "           \"esrb_rating\",\n",
    "           }\n",
    "\n",
    "# Set up number of workers\n",
    "max_workers = 64\n",
    "start_game_index = 0\n",
    "end_game_index = len(csv_data)\n",
    "number_of_games = end_game_index - start_game_index\n",
    "games_per_worker = int(number_of_games/max_workers) + 1 \n",
    "start_index = range(start_game_index, end_game_index, games_per_worker)\n",
    "\n",
    "# Skip downloaded files\n",
    "downloaded_files = {file.split(\".\",1)[0] for file in os.listdir(\"../data/game_info/\")}\n",
    "game_ids = [game_id for game_id, _ in csv_data if game_id not in downloaded_files]\n",
    "\n",
    "\n",
    "\n",
    "# Make urls\n",
    "base_url = r\"https://api.rawg.io/api/games/{i}?key={key}\"\n",
    "urls = [base_url.format(i=game_id, key=API_KEY) for game_id in game_ids]\n",
    "number_of_games = len(urls)\n",
    "games_per_worker = int(number_of_games/max_workers) + 1 \n",
    "start_index = range(start_game_index, number_of_games, games_per_worker)\n",
    "\n",
    "print(f\"There are {len(urls)} urls, {max_workers} workers. Thus, each worker will request {games_per_worker} urls\")\n",
    "\n",
    "print(len(urls))\n",
    "print(*urls[:10], sep=\"\\n\")"
   ]
  },
  {
   "cell_type": "code",
   "execution_count": null,
   "metadata": {},
   "outputs": [],
   "source": [
    "# Time\n",
    "t0 = time()\n",
    "with concurrent.futures.ThreadPoolExecutor(max_workers=max_workers) as executor:\n",
    "    temp = functools.partial(worker,\n",
    "                             games_per_worker=games_per_worker,\n",
    "                             urls=urls,\n",
    "                             downloaded_files=downloaded_files,\n",
    "                             headers=headers,\n",
    "                            )\n",
    "    executor.map(temp, start_index)\n",
    "    \n",
    "# Time\n",
    "print(f\"Time taken: {time()-t0}\")"
   ]
  },
  {
   "cell_type": "code",
   "execution_count": null,
   "metadata": {},
   "outputs": [],
   "source": []
  }
 ],
 "metadata": {
  "kernelspec": {
   "display_name": "base",
   "language": "python",
   "name": "python3"
  },
  "language_info": {
   "codemirror_mode": {
    "name": "ipython",
    "version": 3
   },
   "file_extension": ".py",
   "mimetype": "text/x-python",
   "name": "python",
   "nbconvert_exporter": "python",
   "pygments_lexer": "ipython3",
   "version": "3.12.7"
  }
 },
 "nbformat": 4,
 "nbformat_minor": 4
}
